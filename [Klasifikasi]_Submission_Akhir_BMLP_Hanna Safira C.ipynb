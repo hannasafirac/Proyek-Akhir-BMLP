{
  "cells": [
    {
      "cell_type": "markdown",
      "metadata": {
        "id": "fKADPWcFKlj3"
      },
      "source": [
        "# **1. Import Library**"
      ]
    },
    {
      "cell_type": "code",
      "execution_count": 1,
      "metadata": {
        "id": "BlmvjLY9M4Yj"
      },
      "outputs": [],
      "source": [
        "import pandas as pd\n",
        "import numpy as np\n",
        "\n",
        "from sklearn.preprocessing import MinMaxScaler, LabelEncoder\n",
        "from sklearn.model_selection import train_test_split, GridSearchCV\n",
        "from imblearn.over_sampling import SMOTE\n",
        "from sklearn.ensemble import RandomForestClassifier, AdaBoostClassifier\n",
        "from sklearn.tree import DecisionTreeClassifier\n",
        "\n",
        "from sklearn.metrics import accuracy_score, precision_score, recall_score, f1_score, ConfusionMatrixDisplay\n",
        "\n",
        "import warnings\n",
        "warnings.filterwarnings(\"ignore\")"
      ]
    },
    {
      "cell_type": "markdown",
      "metadata": {
        "id": "f3YIEnAFKrKL"
      },
      "source": [
        "# **2. Memuat Dataset dari Hasil Clustering**"
      ]
    },
    {
      "cell_type": "code",
      "execution_count": 2,
      "metadata": {
        "id": "GHCGNTyrM5fS"
      },
      "outputs": [],
      "source": [
        "data = pd.read_csv('dataset_klasifikasi.csv')"
      ]
    },
    {
      "cell_type": "code",
      "execution_count": 3,
      "metadata": {},
      "outputs": [
        {
          "data": {
            "text/html": [
              "<div>\n",
              "<style scoped>\n",
              "    .dataframe tbody tr th:only-of-type {\n",
              "        vertical-align: middle;\n",
              "    }\n",
              "\n",
              "    .dataframe tbody tr th {\n",
              "        vertical-align: top;\n",
              "    }\n",
              "\n",
              "    .dataframe thead th {\n",
              "        text-align: right;\n",
              "    }\n",
              "</style>\n",
              "<table border=\"1\" class=\"dataframe\">\n",
              "  <thead>\n",
              "    <tr style=\"text-align: right;\">\n",
              "      <th></th>\n",
              "      <th>Hours_Studied</th>\n",
              "      <th>Attendance</th>\n",
              "      <th>Parental_Involvement</th>\n",
              "      <th>Access_to_Resources</th>\n",
              "      <th>Extracurricular_Activities</th>\n",
              "      <th>Sleep_Hours</th>\n",
              "      <th>Previous_Scores</th>\n",
              "      <th>Motivation_Level</th>\n",
              "      <th>Internet_Access</th>\n",
              "      <th>Tutoring_Sessions</th>\n",
              "      <th>...</th>\n",
              "      <th>Teacher_Quality</th>\n",
              "      <th>School_Type</th>\n",
              "      <th>Peer_Influence</th>\n",
              "      <th>Physical_Activity</th>\n",
              "      <th>Learning_Disabilities</th>\n",
              "      <th>Parental_Education_Level</th>\n",
              "      <th>Distance_from_Home</th>\n",
              "      <th>Gender</th>\n",
              "      <th>Exam_Score</th>\n",
              "      <th>Cluster</th>\n",
              "    </tr>\n",
              "  </thead>\n",
              "  <tbody>\n",
              "    <tr>\n",
              "      <th>0</th>\n",
              "      <td>23</td>\n",
              "      <td>84</td>\n",
              "      <td>Low</td>\n",
              "      <td>High</td>\n",
              "      <td>No</td>\n",
              "      <td>7</td>\n",
              "      <td>73</td>\n",
              "      <td>Low</td>\n",
              "      <td>Yes</td>\n",
              "      <td>0</td>\n",
              "      <td>...</td>\n",
              "      <td>Medium</td>\n",
              "      <td>Public</td>\n",
              "      <td>Positive</td>\n",
              "      <td>3</td>\n",
              "      <td>No</td>\n",
              "      <td>High School</td>\n",
              "      <td>Near</td>\n",
              "      <td>Male</td>\n",
              "      <td>67</td>\n",
              "      <td>4</td>\n",
              "    </tr>\n",
              "    <tr>\n",
              "      <th>1</th>\n",
              "      <td>19</td>\n",
              "      <td>64</td>\n",
              "      <td>Low</td>\n",
              "      <td>Medium</td>\n",
              "      <td>No</td>\n",
              "      <td>8</td>\n",
              "      <td>59</td>\n",
              "      <td>Low</td>\n",
              "      <td>Yes</td>\n",
              "      <td>2</td>\n",
              "      <td>...</td>\n",
              "      <td>Medium</td>\n",
              "      <td>Public</td>\n",
              "      <td>Negative</td>\n",
              "      <td>4</td>\n",
              "      <td>No</td>\n",
              "      <td>College</td>\n",
              "      <td>Moderate</td>\n",
              "      <td>Female</td>\n",
              "      <td>61</td>\n",
              "      <td>2</td>\n",
              "    </tr>\n",
              "    <tr>\n",
              "      <th>2</th>\n",
              "      <td>24</td>\n",
              "      <td>98</td>\n",
              "      <td>Medium</td>\n",
              "      <td>Medium</td>\n",
              "      <td>Yes</td>\n",
              "      <td>7</td>\n",
              "      <td>91</td>\n",
              "      <td>Medium</td>\n",
              "      <td>Yes</td>\n",
              "      <td>2</td>\n",
              "      <td>...</td>\n",
              "      <td>Medium</td>\n",
              "      <td>Public</td>\n",
              "      <td>Neutral</td>\n",
              "      <td>4</td>\n",
              "      <td>No</td>\n",
              "      <td>Postgraduate</td>\n",
              "      <td>Near</td>\n",
              "      <td>Male</td>\n",
              "      <td>74</td>\n",
              "      <td>2</td>\n",
              "    </tr>\n",
              "    <tr>\n",
              "      <th>3</th>\n",
              "      <td>29</td>\n",
              "      <td>89</td>\n",
              "      <td>Low</td>\n",
              "      <td>Medium</td>\n",
              "      <td>Yes</td>\n",
              "      <td>8</td>\n",
              "      <td>98</td>\n",
              "      <td>Medium</td>\n",
              "      <td>Yes</td>\n",
              "      <td>1</td>\n",
              "      <td>...</td>\n",
              "      <td>Medium</td>\n",
              "      <td>Public</td>\n",
              "      <td>Negative</td>\n",
              "      <td>4</td>\n",
              "      <td>No</td>\n",
              "      <td>High School</td>\n",
              "      <td>Moderate</td>\n",
              "      <td>Male</td>\n",
              "      <td>71</td>\n",
              "      <td>2</td>\n",
              "    </tr>\n",
              "    <tr>\n",
              "      <th>4</th>\n",
              "      <td>19</td>\n",
              "      <td>92</td>\n",
              "      <td>Medium</td>\n",
              "      <td>Medium</td>\n",
              "      <td>Yes</td>\n",
              "      <td>6</td>\n",
              "      <td>65</td>\n",
              "      <td>Medium</td>\n",
              "      <td>Yes</td>\n",
              "      <td>3</td>\n",
              "      <td>...</td>\n",
              "      <td>High</td>\n",
              "      <td>Public</td>\n",
              "      <td>Neutral</td>\n",
              "      <td>4</td>\n",
              "      <td>No</td>\n",
              "      <td>College</td>\n",
              "      <td>Near</td>\n",
              "      <td>Female</td>\n",
              "      <td>70</td>\n",
              "      <td>1</td>\n",
              "    </tr>\n",
              "  </tbody>\n",
              "</table>\n",
              "<p>5 rows × 21 columns</p>\n",
              "</div>"
            ],
            "text/plain": [
              "   Hours_Studied  Attendance Parental_Involvement Access_to_Resources  \\\n",
              "0             23          84                  Low                High   \n",
              "1             19          64                  Low              Medium   \n",
              "2             24          98               Medium              Medium   \n",
              "3             29          89                  Low              Medium   \n",
              "4             19          92               Medium              Medium   \n",
              "\n",
              "  Extracurricular_Activities  Sleep_Hours  Previous_Scores Motivation_Level  \\\n",
              "0                         No            7               73              Low   \n",
              "1                         No            8               59              Low   \n",
              "2                        Yes            7               91           Medium   \n",
              "3                        Yes            8               98           Medium   \n",
              "4                        Yes            6               65           Medium   \n",
              "\n",
              "  Internet_Access  Tutoring_Sessions  ... Teacher_Quality School_Type  \\\n",
              "0             Yes                  0  ...          Medium      Public   \n",
              "1             Yes                  2  ...          Medium      Public   \n",
              "2             Yes                  2  ...          Medium      Public   \n",
              "3             Yes                  1  ...          Medium      Public   \n",
              "4             Yes                  3  ...            High      Public   \n",
              "\n",
              "  Peer_Influence Physical_Activity  Learning_Disabilities  \\\n",
              "0       Positive                 3                     No   \n",
              "1       Negative                 4                     No   \n",
              "2        Neutral                 4                     No   \n",
              "3       Negative                 4                     No   \n",
              "4        Neutral                 4                     No   \n",
              "\n",
              "  Parental_Education_Level Distance_from_Home  Gender Exam_Score  Cluster  \n",
              "0              High School               Near    Male         67        4  \n",
              "1                  College           Moderate  Female         61        2  \n",
              "2             Postgraduate               Near    Male         74        2  \n",
              "3              High School           Moderate    Male         71        2  \n",
              "4                  College               Near  Female         70        1  \n",
              "\n",
              "[5 rows x 21 columns]"
            ]
          },
          "execution_count": 3,
          "metadata": {},
          "output_type": "execute_result"
        }
      ],
      "source": [
        "data.head(5)"
      ]
    },
    {
      "cell_type": "code",
      "execution_count": 4,
      "metadata": {},
      "outputs": [
        {
          "data": {
            "text/plain": [
              "(6607, 21)"
            ]
          },
          "execution_count": 4,
          "metadata": {},
          "output_type": "execute_result"
        }
      ],
      "source": [
        "data.shape"
      ]
    },
    {
      "cell_type": "markdown",
      "metadata": {
        "id": "KkPem5eWL2UP"
      },
      "source": [
        "# **3. Data Splitting**"
      ]
    },
    {
      "cell_type": "code",
      "execution_count": 5,
      "metadata": {},
      "outputs": [],
      "source": [
        "# definisikan data fitur dan target\n",
        "y = data['Cluster']\n",
        "X = data.drop(['Cluster'], axis=1)"
      ]
    },
    {
      "cell_type": "code",
      "execution_count": 6,
      "metadata": {
        "id": "OubAW-7ONKVj"
      },
      "outputs": [],
      "source": [
        "# membagi data menjadi data train dan data test\n",
        "X_train, X_test, y_train, y_test = train_test_split(X,y,test_size=0.2, stratify=y, random_state=42)"
      ]
    },
    {
      "cell_type": "markdown",
      "metadata": {},
      "source": [
        "### *Pre-processing*"
      ]
    },
    {
      "cell_type": "markdown",
      "metadata": {},
      "source": [
        "#### *Missing value*"
      ]
    },
    {
      "cell_type": "code",
      "execution_count": 7,
      "metadata": {},
      "outputs": [
        {
          "data": {
            "text/plain": [
              "Hours_Studied                  0\n",
              "Attendance                     0\n",
              "Parental_Involvement           0\n",
              "Access_to_Resources            0\n",
              "Extracurricular_Activities     0\n",
              "Sleep_Hours                    0\n",
              "Previous_Scores                0\n",
              "Motivation_Level               0\n",
              "Internet_Access                0\n",
              "Tutoring_Sessions              0\n",
              "Family_Income                  0\n",
              "Teacher_Quality               63\n",
              "School_Type                    0\n",
              "Peer_Influence                 0\n",
              "Physical_Activity              0\n",
              "Learning_Disabilities          0\n",
              "Parental_Education_Level      67\n",
              "Distance_from_Home            56\n",
              "Gender                         0\n",
              "Exam_Score                     0\n",
              "dtype: int64"
            ]
          },
          "metadata": {},
          "output_type": "display_data"
        },
        {
          "data": {
            "text/plain": [
              "Hours_Studied                  0\n",
              "Attendance                     0\n",
              "Parental_Involvement           0\n",
              "Access_to_Resources            0\n",
              "Extracurricular_Activities     0\n",
              "Sleep_Hours                    0\n",
              "Previous_Scores                0\n",
              "Motivation_Level               0\n",
              "Internet_Access                0\n",
              "Tutoring_Sessions              0\n",
              "Family_Income                  0\n",
              "Teacher_Quality               15\n",
              "School_Type                    0\n",
              "Peer_Influence                 0\n",
              "Physical_Activity              0\n",
              "Learning_Disabilities          0\n",
              "Parental_Education_Level      23\n",
              "Distance_from_Home            11\n",
              "Gender                         0\n",
              "Exam_Score                     0\n",
              "dtype: int64"
            ]
          },
          "metadata": {},
          "output_type": "display_data"
        }
      ],
      "source": [
        "# periksa apakah ada missing value\n",
        "display(X_train.isnull().sum())\n",
        "\n",
        "display(X_test.isnull().sum())"
      ]
    },
    {
      "cell_type": "code",
      "execution_count": 8,
      "metadata": {},
      "outputs": [
        {
          "name": "stdout",
          "output_type": "stream",
          "text": [
            "['Teacher_Quality', 'Parental_Education_Level', 'Distance_from_Home']\n",
            "['Teacher_Quality', 'Parental_Education_Level', 'Distance_from_Home']\n"
          ]
        }
      ],
      "source": [
        "# kolom dengan missing value\n",
        "missing_value_cols_train = [col for col in X_train.columns if X_train[col].isnull().sum() > 0]\n",
        "missing_value_cols_test = [col for col in X_test.columns if X_test[col].isnull().sum() > 0]\n",
        "\n",
        "print(missing_value_cols_train)\n",
        "print(missing_value_cols_test)"
      ]
    },
    {
      "cell_type": "markdown",
      "metadata": {},
      "source": [
        "Ketiga kolom ini bertipe kategorik, sehingga **missing value akan diisi menggunakan modus**"
      ]
    },
    {
      "cell_type": "code",
      "execution_count": 9,
      "metadata": {},
      "outputs": [],
      "source": [
        "# mengisi missing value dengan modus\n",
        "for col in missing_value_cols_train:\n",
        "    X_train[col] = X_train[col].fillna(X_train[col].mode()[0])\n",
        "\n",
        "for col in missing_value_cols_test:\n",
        "    X_test[col] = X_test[col].fillna(X_test[col].mode()[0])"
      ]
    },
    {
      "cell_type": "code",
      "execution_count": 10,
      "metadata": {},
      "outputs": [
        {
          "data": {
            "text/plain": [
              "Hours_Studied                 0\n",
              "Attendance                    0\n",
              "Parental_Involvement          0\n",
              "Access_to_Resources           0\n",
              "Extracurricular_Activities    0\n",
              "Sleep_Hours                   0\n",
              "Previous_Scores               0\n",
              "Motivation_Level              0\n",
              "Internet_Access               0\n",
              "Tutoring_Sessions             0\n",
              "Family_Income                 0\n",
              "Teacher_Quality               0\n",
              "School_Type                   0\n",
              "Peer_Influence                0\n",
              "Physical_Activity             0\n",
              "Learning_Disabilities         0\n",
              "Parental_Education_Level      0\n",
              "Distance_from_Home            0\n",
              "Gender                        0\n",
              "Exam_Score                    0\n",
              "dtype: int64"
            ]
          },
          "metadata": {},
          "output_type": "display_data"
        },
        {
          "data": {
            "text/plain": [
              "Hours_Studied                 0\n",
              "Attendance                    0\n",
              "Parental_Involvement          0\n",
              "Access_to_Resources           0\n",
              "Extracurricular_Activities    0\n",
              "Sleep_Hours                   0\n",
              "Previous_Scores               0\n",
              "Motivation_Level              0\n",
              "Internet_Access               0\n",
              "Tutoring_Sessions             0\n",
              "Family_Income                 0\n",
              "Teacher_Quality               0\n",
              "School_Type                   0\n",
              "Peer_Influence                0\n",
              "Physical_Activity             0\n",
              "Learning_Disabilities         0\n",
              "Parental_Education_Level      0\n",
              "Distance_from_Home            0\n",
              "Gender                        0\n",
              "Exam_Score                    0\n",
              "dtype: int64"
            ]
          },
          "metadata": {},
          "output_type": "display_data"
        }
      ],
      "source": [
        "# periksa kembali apakah masih ada missing value\n",
        "display(X_train.isnull().sum())\n",
        "\n",
        "display(X_test.isnull().sum())"
      ]
    },
    {
      "cell_type": "markdown",
      "metadata": {},
      "source": [
        "#### Normalisasi"
      ]
    },
    {
      "cell_type": "code",
      "execution_count": 11,
      "metadata": {},
      "outputs": [
        {
          "name": "stdout",
          "output_type": "stream",
          "text": [
            "['Hours_Studied', 'Attendance', 'Sleep_Hours', 'Previous_Scores', 'Tutoring_Sessions', 'Physical_Activity', 'Exam_Score']\n"
          ]
        }
      ],
      "source": [
        "# list yang berisikan kolom-kolom numerik\n",
        "numerical_cols = [cname for cname in X_train.columns if X_train[cname].dtype in ['int64', 'float64']]\n",
        "\n",
        "print(numerical_cols)"
      ]
    },
    {
      "cell_type": "code",
      "execution_count": 12,
      "metadata": {},
      "outputs": [],
      "source": [
        "scl = MinMaxScaler()\n",
        "\n",
        "# hanya fit ke data train\n",
        "scl.fit(X_train[numerical_cols])\n",
        "\n",
        "X_train[numerical_cols] = scl.transform(X_train[numerical_cols])\n",
        "X_test[numerical_cols] = scl.transform(X_test[numerical_cols])"
      ]
    },
    {
      "cell_type": "markdown",
      "metadata": {},
      "source": [
        "#### *Label encoding*"
      ]
    },
    {
      "cell_type": "code",
      "execution_count": 13,
      "metadata": {},
      "outputs": [
        {
          "name": "stdout",
          "output_type": "stream",
          "text": [
            "['Parental_Involvement', 'Access_to_Resources', 'Extracurricular_Activities', 'Motivation_Level', 'Internet_Access', 'Family_Income', 'Teacher_Quality', 'School_Type', 'Peer_Influence', 'Learning_Disabilities', 'Parental_Education_Level', 'Distance_from_Home', 'Gender']\n"
          ]
        }
      ],
      "source": [
        "# list yang berisikan kolom-kolom kategorik\n",
        "categorical_cols = [col for col in X_train.columns if X_train[col].dtype == 'object']\n",
        "\n",
        "print(categorical_cols)"
      ]
    },
    {
      "cell_type": "code",
      "execution_count": 14,
      "metadata": {},
      "outputs": [],
      "source": [
        "le = LabelEncoder()\n",
        "\n",
        "# labeling untuk setiap kolom kategorik\n",
        "for col in categorical_cols:\n",
        "    # hanya fit ke data train\n",
        "    le.fit(X_train[col])\n",
        "\n",
        "    X_train[col] = le.transform(X_train[col])\n",
        "    X_test[col] = le.transform(X_test[col])"
      ]
    },
    {
      "cell_type": "code",
      "execution_count": 15,
      "metadata": {},
      "outputs": [
        {
          "data": {
            "text/html": [
              "<div>\n",
              "<style scoped>\n",
              "    .dataframe tbody tr th:only-of-type {\n",
              "        vertical-align: middle;\n",
              "    }\n",
              "\n",
              "    .dataframe tbody tr th {\n",
              "        vertical-align: top;\n",
              "    }\n",
              "\n",
              "    .dataframe thead th {\n",
              "        text-align: right;\n",
              "    }\n",
              "</style>\n",
              "<table border=\"1\" class=\"dataframe\">\n",
              "  <thead>\n",
              "    <tr style=\"text-align: right;\">\n",
              "      <th></th>\n",
              "      <th>Hours_Studied</th>\n",
              "      <th>Attendance</th>\n",
              "      <th>Parental_Involvement</th>\n",
              "      <th>Access_to_Resources</th>\n",
              "      <th>Extracurricular_Activities</th>\n",
              "      <th>Sleep_Hours</th>\n",
              "      <th>Previous_Scores</th>\n",
              "      <th>Motivation_Level</th>\n",
              "      <th>Internet_Access</th>\n",
              "      <th>Tutoring_Sessions</th>\n",
              "      <th>Family_Income</th>\n",
              "      <th>Teacher_Quality</th>\n",
              "      <th>School_Type</th>\n",
              "      <th>Peer_Influence</th>\n",
              "      <th>Physical_Activity</th>\n",
              "      <th>Learning_Disabilities</th>\n",
              "      <th>Parental_Education_Level</th>\n",
              "      <th>Distance_from_Home</th>\n",
              "      <th>Gender</th>\n",
              "      <th>Exam_Score</th>\n",
              "    </tr>\n",
              "  </thead>\n",
              "  <tbody>\n",
              "    <tr>\n",
              "      <th>3439</th>\n",
              "      <td>0.488372</td>\n",
              "      <td>0.050</td>\n",
              "      <td>0</td>\n",
              "      <td>2</td>\n",
              "      <td>0</td>\n",
              "      <td>0.833333</td>\n",
              "      <td>0.02</td>\n",
              "      <td>2</td>\n",
              "      <td>1</td>\n",
              "      <td>0.250</td>\n",
              "      <td>1</td>\n",
              "      <td>2</td>\n",
              "      <td>1</td>\n",
              "      <td>1</td>\n",
              "      <td>0.333333</td>\n",
              "      <td>0</td>\n",
              "      <td>1</td>\n",
              "      <td>2</td>\n",
              "      <td>1</td>\n",
              "      <td>0.177778</td>\n",
              "    </tr>\n",
              "    <tr>\n",
              "      <th>5045</th>\n",
              "      <td>0.581395</td>\n",
              "      <td>0.950</td>\n",
              "      <td>0</td>\n",
              "      <td>1</td>\n",
              "      <td>0</td>\n",
              "      <td>0.000000</td>\n",
              "      <td>0.76</td>\n",
              "      <td>1</td>\n",
              "      <td>1</td>\n",
              "      <td>0.125</td>\n",
              "      <td>2</td>\n",
              "      <td>0</td>\n",
              "      <td>1</td>\n",
              "      <td>1</td>\n",
              "      <td>0.166667</td>\n",
              "      <td>0</td>\n",
              "      <td>0</td>\n",
              "      <td>1</td>\n",
              "      <td>0</td>\n",
              "      <td>0.377778</td>\n",
              "    </tr>\n",
              "    <tr>\n",
              "      <th>4172</th>\n",
              "      <td>0.372093</td>\n",
              "      <td>0.675</td>\n",
              "      <td>2</td>\n",
              "      <td>2</td>\n",
              "      <td>1</td>\n",
              "      <td>0.833333</td>\n",
              "      <td>0.06</td>\n",
              "      <td>1</td>\n",
              "      <td>1</td>\n",
              "      <td>0.375</td>\n",
              "      <td>1</td>\n",
              "      <td>2</td>\n",
              "      <td>1</td>\n",
              "      <td>2</td>\n",
              "      <td>0.500000</td>\n",
              "      <td>0</td>\n",
              "      <td>2</td>\n",
              "      <td>1</td>\n",
              "      <td>0</td>\n",
              "      <td>0.266667</td>\n",
              "    </tr>\n",
              "    <tr>\n",
              "      <th>3722</th>\n",
              "      <td>0.209302</td>\n",
              "      <td>0.275</td>\n",
              "      <td>2</td>\n",
              "      <td>1</td>\n",
              "      <td>0</td>\n",
              "      <td>1.000000</td>\n",
              "      <td>0.06</td>\n",
              "      <td>1</td>\n",
              "      <td>1</td>\n",
              "      <td>0.500</td>\n",
              "      <td>0</td>\n",
              "      <td>2</td>\n",
              "      <td>0</td>\n",
              "      <td>2</td>\n",
              "      <td>0.500000</td>\n",
              "      <td>0</td>\n",
              "      <td>1</td>\n",
              "      <td>2</td>\n",
              "      <td>0</td>\n",
              "      <td>0.155556</td>\n",
              "    </tr>\n",
              "    <tr>\n",
              "      <th>3468</th>\n",
              "      <td>0.372093</td>\n",
              "      <td>0.800</td>\n",
              "      <td>2</td>\n",
              "      <td>2</td>\n",
              "      <td>0</td>\n",
              "      <td>0.500000</td>\n",
              "      <td>0.98</td>\n",
              "      <td>2</td>\n",
              "      <td>1</td>\n",
              "      <td>0.125</td>\n",
              "      <td>2</td>\n",
              "      <td>2</td>\n",
              "      <td>1</td>\n",
              "      <td>1</td>\n",
              "      <td>0.333333</td>\n",
              "      <td>0</td>\n",
              "      <td>0</td>\n",
              "      <td>0</td>\n",
              "      <td>0</td>\n",
              "      <td>0.288889</td>\n",
              "    </tr>\n",
              "  </tbody>\n",
              "</table>\n",
              "</div>"
            ],
            "text/plain": [
              "      Hours_Studied  Attendance  Parental_Involvement  Access_to_Resources  \\\n",
              "3439       0.488372       0.050                     0                    2   \n",
              "5045       0.581395       0.950                     0                    1   \n",
              "4172       0.372093       0.675                     2                    2   \n",
              "3722       0.209302       0.275                     2                    1   \n",
              "3468       0.372093       0.800                     2                    2   \n",
              "\n",
              "      Extracurricular_Activities  Sleep_Hours  Previous_Scores  \\\n",
              "3439                           0     0.833333             0.02   \n",
              "5045                           0     0.000000             0.76   \n",
              "4172                           1     0.833333             0.06   \n",
              "3722                           0     1.000000             0.06   \n",
              "3468                           0     0.500000             0.98   \n",
              "\n",
              "      Motivation_Level  Internet_Access  Tutoring_Sessions  Family_Income  \\\n",
              "3439                 2                1              0.250              1   \n",
              "5045                 1                1              0.125              2   \n",
              "4172                 1                1              0.375              1   \n",
              "3722                 1                1              0.500              0   \n",
              "3468                 2                1              0.125              2   \n",
              "\n",
              "      Teacher_Quality  School_Type  Peer_Influence  Physical_Activity  \\\n",
              "3439                2            1               1           0.333333   \n",
              "5045                0            1               1           0.166667   \n",
              "4172                2            1               2           0.500000   \n",
              "3722                2            0               2           0.500000   \n",
              "3468                2            1               1           0.333333   \n",
              "\n",
              "      Learning_Disabilities  Parental_Education_Level  Distance_from_Home  \\\n",
              "3439                      0                         1                   2   \n",
              "5045                      0                         0                   1   \n",
              "4172                      0                         2                   1   \n",
              "3722                      0                         1                   2   \n",
              "3468                      0                         0                   0   \n",
              "\n",
              "      Gender  Exam_Score  \n",
              "3439       1    0.177778  \n",
              "5045       0    0.377778  \n",
              "4172       0    0.266667  \n",
              "3722       0    0.155556  \n",
              "3468       0    0.288889  "
            ]
          },
          "execution_count": 15,
          "metadata": {},
          "output_type": "execute_result"
        }
      ],
      "source": [
        "X_train.head(5)"
      ]
    },
    {
      "cell_type": "code",
      "execution_count": 16,
      "metadata": {},
      "outputs": [
        {
          "data": {
            "text/html": [
              "<div>\n",
              "<style scoped>\n",
              "    .dataframe tbody tr th:only-of-type {\n",
              "        vertical-align: middle;\n",
              "    }\n",
              "\n",
              "    .dataframe tbody tr th {\n",
              "        vertical-align: top;\n",
              "    }\n",
              "\n",
              "    .dataframe thead th {\n",
              "        text-align: right;\n",
              "    }\n",
              "</style>\n",
              "<table border=\"1\" class=\"dataframe\">\n",
              "  <thead>\n",
              "    <tr style=\"text-align: right;\">\n",
              "      <th></th>\n",
              "      <th>Hours_Studied</th>\n",
              "      <th>Attendance</th>\n",
              "      <th>Parental_Involvement</th>\n",
              "      <th>Access_to_Resources</th>\n",
              "      <th>Extracurricular_Activities</th>\n",
              "      <th>Sleep_Hours</th>\n",
              "      <th>Previous_Scores</th>\n",
              "      <th>Motivation_Level</th>\n",
              "      <th>Internet_Access</th>\n",
              "      <th>Tutoring_Sessions</th>\n",
              "      <th>Family_Income</th>\n",
              "      <th>Teacher_Quality</th>\n",
              "      <th>School_Type</th>\n",
              "      <th>Peer_Influence</th>\n",
              "      <th>Physical_Activity</th>\n",
              "      <th>Learning_Disabilities</th>\n",
              "      <th>Parental_Education_Level</th>\n",
              "      <th>Distance_from_Home</th>\n",
              "      <th>Gender</th>\n",
              "      <th>Exam_Score</th>\n",
              "    </tr>\n",
              "  </thead>\n",
              "  <tbody>\n",
              "    <tr>\n",
              "      <th>509</th>\n",
              "      <td>0.325581</td>\n",
              "      <td>0.950</td>\n",
              "      <td>1</td>\n",
              "      <td>0</td>\n",
              "      <td>1</td>\n",
              "      <td>0.666667</td>\n",
              "      <td>0.38</td>\n",
              "      <td>1</td>\n",
              "      <td>1</td>\n",
              "      <td>0.250</td>\n",
              "      <td>1</td>\n",
              "      <td>2</td>\n",
              "      <td>1</td>\n",
              "      <td>1</td>\n",
              "      <td>0.666667</td>\n",
              "      <td>0</td>\n",
              "      <td>1</td>\n",
              "      <td>1</td>\n",
              "      <td>0</td>\n",
              "      <td>0.288889</td>\n",
              "    </tr>\n",
              "    <tr>\n",
              "      <th>436</th>\n",
              "      <td>0.674419</td>\n",
              "      <td>0.650</td>\n",
              "      <td>2</td>\n",
              "      <td>1</td>\n",
              "      <td>1</td>\n",
              "      <td>0.666667</td>\n",
              "      <td>0.04</td>\n",
              "      <td>2</td>\n",
              "      <td>1</td>\n",
              "      <td>0.250</td>\n",
              "      <td>2</td>\n",
              "      <td>2</td>\n",
              "      <td>1</td>\n",
              "      <td>0</td>\n",
              "      <td>0.333333</td>\n",
              "      <td>1</td>\n",
              "      <td>0</td>\n",
              "      <td>1</td>\n",
              "      <td>0</td>\n",
              "      <td>0.288889</td>\n",
              "    </tr>\n",
              "    <tr>\n",
              "      <th>4868</th>\n",
              "      <td>0.465116</td>\n",
              "      <td>0.025</td>\n",
              "      <td>2</td>\n",
              "      <td>2</td>\n",
              "      <td>1</td>\n",
              "      <td>0.333333</td>\n",
              "      <td>0.86</td>\n",
              "      <td>1</td>\n",
              "      <td>1</td>\n",
              "      <td>0.375</td>\n",
              "      <td>2</td>\n",
              "      <td>0</td>\n",
              "      <td>0</td>\n",
              "      <td>1</td>\n",
              "      <td>0.500000</td>\n",
              "      <td>0</td>\n",
              "      <td>1</td>\n",
              "      <td>2</td>\n",
              "      <td>0</td>\n",
              "      <td>0.222222</td>\n",
              "    </tr>\n",
              "    <tr>\n",
              "      <th>4468</th>\n",
              "      <td>0.465116</td>\n",
              "      <td>0.475</td>\n",
              "      <td>2</td>\n",
              "      <td>2</td>\n",
              "      <td>1</td>\n",
              "      <td>0.500000</td>\n",
              "      <td>0.98</td>\n",
              "      <td>2</td>\n",
              "      <td>1</td>\n",
              "      <td>0.250</td>\n",
              "      <td>1</td>\n",
              "      <td>2</td>\n",
              "      <td>1</td>\n",
              "      <td>2</td>\n",
              "      <td>0.333333</td>\n",
              "      <td>0</td>\n",
              "      <td>2</td>\n",
              "      <td>2</td>\n",
              "      <td>1</td>\n",
              "      <td>0.311111</td>\n",
              "    </tr>\n",
              "    <tr>\n",
              "      <th>6601</th>\n",
              "      <td>0.441860</td>\n",
              "      <td>0.575</td>\n",
              "      <td>2</td>\n",
              "      <td>1</td>\n",
              "      <td>0</td>\n",
              "      <td>0.333333</td>\n",
              "      <td>0.02</td>\n",
              "      <td>1</td>\n",
              "      <td>1</td>\n",
              "      <td>0.250</td>\n",
              "      <td>2</td>\n",
              "      <td>2</td>\n",
              "      <td>1</td>\n",
              "      <td>1</td>\n",
              "      <td>0.666667</td>\n",
              "      <td>0</td>\n",
              "      <td>1</td>\n",
              "      <td>1</td>\n",
              "      <td>0</td>\n",
              "      <td>0.222222</td>\n",
              "    </tr>\n",
              "  </tbody>\n",
              "</table>\n",
              "</div>"
            ],
            "text/plain": [
              "      Hours_Studied  Attendance  Parental_Involvement  Access_to_Resources  \\\n",
              "509        0.325581       0.950                     1                    0   \n",
              "436        0.674419       0.650                     2                    1   \n",
              "4868       0.465116       0.025                     2                    2   \n",
              "4468       0.465116       0.475                     2                    2   \n",
              "6601       0.441860       0.575                     2                    1   \n",
              "\n",
              "      Extracurricular_Activities  Sleep_Hours  Previous_Scores  \\\n",
              "509                            1     0.666667             0.38   \n",
              "436                            1     0.666667             0.04   \n",
              "4868                           1     0.333333             0.86   \n",
              "4468                           1     0.500000             0.98   \n",
              "6601                           0     0.333333             0.02   \n",
              "\n",
              "      Motivation_Level  Internet_Access  Tutoring_Sessions  Family_Income  \\\n",
              "509                  1                1              0.250              1   \n",
              "436                  2                1              0.250              2   \n",
              "4868                 1                1              0.375              2   \n",
              "4468                 2                1              0.250              1   \n",
              "6601                 1                1              0.250              2   \n",
              "\n",
              "      Teacher_Quality  School_Type  Peer_Influence  Physical_Activity  \\\n",
              "509                 2            1               1           0.666667   \n",
              "436                 2            1               0           0.333333   \n",
              "4868                0            0               1           0.500000   \n",
              "4468                2            1               2           0.333333   \n",
              "6601                2            1               1           0.666667   \n",
              "\n",
              "      Learning_Disabilities  Parental_Education_Level  Distance_from_Home  \\\n",
              "509                       0                         1                   1   \n",
              "436                       1                         0                   1   \n",
              "4868                      0                         1                   2   \n",
              "4468                      0                         2                   2   \n",
              "6601                      0                         1                   1   \n",
              "\n",
              "      Gender  Exam_Score  \n",
              "509        0    0.288889  \n",
              "436        0    0.288889  \n",
              "4868       0    0.222222  \n",
              "4468       1    0.311111  \n",
              "6601       0    0.222222  "
            ]
          },
          "execution_count": 16,
          "metadata": {},
          "output_type": "execute_result"
        }
      ],
      "source": [
        "X_test.head(5)"
      ]
    },
    {
      "cell_type": "markdown",
      "metadata": {},
      "source": [
        "#### SMOTE"
      ]
    },
    {
      "cell_type": "code",
      "execution_count": 17,
      "metadata": {},
      "outputs": [],
      "source": [
        "# menyeimbangkan kelas/label pada data train menggunakan smote\n",
        "smote = SMOTE(random_state=42)\n",
        "X_train, y_train = smote.fit_resample(X_train, y_train)"
      ]
    },
    {
      "cell_type": "markdown",
      "metadata": {
        "id": "IVPbB03CMhTT"
      },
      "source": [
        "# **4. Membangun Model Klasifikasi**\n"
      ]
    },
    {
      "cell_type": "markdown",
      "metadata": {
        "id": "Ned1pL9zMmBK"
      },
      "source": [
        "## **a. Membangun Model Klasifikasi**"
      ]
    },
    {
      "cell_type": "markdown",
      "metadata": {},
      "source": [
        "Digunakan dua algoritma klasifikasi yaitu Random Forest dan AdaBoost"
      ]
    },
    {
      "cell_type": "code",
      "execution_count": 18,
      "metadata": {},
      "outputs": [],
      "source": [
        "# fit model random forest\n",
        "rf = RandomForestClassifier(random_state=42)\n",
        "rf.fit(X_train, y_train)\n",
        "rf_pred = rf.predict(X_test)"
      ]
    },
    {
      "cell_type": "code",
      "execution_count": 19,
      "metadata": {},
      "outputs": [],
      "source": [
        "# fit model adaboost\n",
        "ada = AdaBoostClassifier(random_state=42, algorithm='SAMME')\n",
        "ada.fit(X_train, y_train)\n",
        "ada_pred = ada.predict(X_test)"
      ]
    },
    {
      "cell_type": "markdown",
      "metadata": {},
      "source": [
        "**Penjelasan algoritma yang digunakan** <br>\n",
        "\n",
        "**1. Random Forest** <br>\n",
        "\n",
        "Random Forest adalah algoritma ensemble learning yang menggunakan banyak pohon keputusan (decision trees) untuk membuat prediksi. Setiap pohon dilatih pada subset data yang dipilih secara acak (dengan bootstrap sampling), dan setiap split dalam pohon dibuat berdasarkan subset fitur yang dipilih secara acak. Hasil akhir dari Random Forest adalah rata-rata atau mayoritas voting dari prediksi semua pohon.\n",
        "\n",
        "Kelebihan:\n",
        "- Karena menggunakan banyak pohon dan teknik bagging, Random Forest cenderung tidak overfit.\n",
        "- Random Forest dapat menangani data yang hilang dengan baik.\n",
        "- Random Forest dapat memberikan informasi tentang pentingnya setiap fitur dalam prediksi.\n",
        "\n",
        "Kekurangan:\n",
        "- Karena menggunakan banyak pohon, Random Forest bisa menjadi lambat dan memakan banyak memori.\n",
        "- Meskipun bisa memberikan feature importance, modelnya sendiri sulit diinterpretasikan secara detail.\n",
        "\n",
        "**2. AdaBoost** <br>\n",
        "\n",
        "AdaBoost (Adaptive Boosting) adalah algoritma ensemble learning yang menggabungkan beberapa model lemah menjadi model yang kuat. Setiap model lemah dilatih secara berurutan, dengan model berikutnya mencoba memperbaiki kesalahan yang dibuat oleh model sebelumnya.\n",
        "\n",
        "Kelebihan:\n",
        "- AdaBoost dapat meningkatkan akurasi dengan menggabungkan beberapa model lemah.\n",
        "- Cocok untuk dataset dengan kelas yang tidak seimbang.\n",
        "- Dapat digunakan dengan berbagai base estimator (misalnya, Decision Tree, SVM).\n",
        "\n",
        "Kekurangan:\n",
        "- Karena fokus pada kesalahan prediksi, AdaBoost bisa menjadi sensitif terhadap noise dan outlier.\n",
        "- Jika base estimator terlalu kompleks, AdaBoost bisa overfit."
      ]
    },
    {
      "cell_type": "markdown",
      "metadata": {},
      "source": [
        "**Alasan penggunaan** <br>\n",
        "- Random Forest dipilih karena robust dan dapat menangani multi-kelas dengan baik.\n",
        "- AdaBoost cocok untuk meningkatkan akurasi."
      ]
    },
    {
      "cell_type": "markdown",
      "metadata": {
        "id": "ergzChZFEL-O"
      },
      "source": [
        "## **b. Evaluasi Model Klasifikasi**"
      ]
    },
    {
      "cell_type": "code",
      "execution_count": 20,
      "metadata": {},
      "outputs": [],
      "source": [
        "# fungsi evaluasi model\n",
        "def evaluate_classification(y_test, y_pred):\n",
        "    accuracy = accuracy_score(y_test, y_pred)\n",
        "    precision = precision_score(y_test, y_pred, average='weighted') \n",
        "    recall = recall_score(y_test, y_pred, average='weighted')        \n",
        "    f1 = f1_score(y_test, y_pred, average='weighted')    \n",
        "\n",
        "    print(f\"Accuracy: {accuracy:.3f}, Precision: {precision:.3f}, Recall: {recall:.3f}, F1-score: {f1:.3f} \\n\")\n",
        "    \n",
        "    print(\"Confusion Matrix\")\n",
        "    ConfusionMatrixDisplay.from_predictions(y_test, y_pred, cmap='Blues')\n",
        "\n",
        "    return "
      ]
    },
    {
      "cell_type": "markdown",
      "metadata": {},
      "source": [
        "### Evaluasi model Random Forest"
      ]
    },
    {
      "cell_type": "code",
      "execution_count": 21,
      "metadata": {},
      "outputs": [
        {
          "name": "stdout",
          "output_type": "stream",
          "text": [
            "Accuracy: 1.000, Precision: 1.000, Recall: 1.000, F1-score: 1.000 \n",
            "\n",
            "Confusion Matrix\n"
          ]
        },
        {
          "data": {
            "image/png": "[encoded data removed]",
            "text/plain": [
              "<Figure size 640x480 with 2 Axes>"
            ]
          },
          "metadata": {},
          "output_type": "display_data"
        }
      ],
      "source": [
        "evaluate_classification(y_test, rf_pred)"
      ]
    },
    {
      "cell_type": "markdown",
      "metadata": {},
      "source": [
        "- Model Random Forest menghasilkan akurasi, precision, recall, dan F1-score sempurna (1.00).\n",
        "- Confusion matrix menunjukkan bahwa tidak ada kesalahan prediksi (semua sampel test diprediksi dengan benar)."
      ]
    },
    {
      "cell_type": "markdown",
      "metadata": {},
      "source": [
        "### Evaluasi model AdaBoost"
      ]
    },
    {
      "cell_type": "code",
      "execution_count": 22,
      "metadata": {},
      "outputs": [
        {
          "name": "stdout",
          "output_type": "stream",
          "text": [
            "Accuracy: 0.685, Precision: 0.642, Recall: 0.685, F1-score: 0.648 \n",
            "\n",
            "Confusion Matrix\n"
          ]
        },
        {
          "data": {
            "image/png": "[encoded data removed]",
            "text/plain": [
              "<Figure size 640x480 with 2 Axes>"
            ]
          },
          "metadata": {},
          "output_type": "display_data"
        }
      ],
      "source": [
        "evaluate_classification(y_test, ada_pred)"
      ]
    },
    {
      "cell_type": "markdown",
      "metadata": {},
      "source": [
        "- Model AdaBoost menghasilkan akurasi, precision, recall, dan F1-score sekitar 64-68%. Ini menunjukkan bahwa model memiliki performa yang kurang baik dalam memprediksi kelas target.\n",
        "- Confusion matrix menunjukkan bahwa ada kesalahan prediksi yang signifikan untuk beberapa kelas, terutama:\n",
        "  - Kelas 3: Semua sampel (116) salah diprediksi sebagai kelas 7.\n",
        "  - Kelas 4: Semua sampel (238) salah diprediksi sebagai kelas 7.\n",
        "  - Kelas 6: Semua sampel (63) salah diprediksi sebagai kelas 8.\n"
      ]
    },
    {
      "cell_type": "markdown",
      "metadata": {},
      "source": [
        "### Ringkasan hasil evaluasi"
      ]
    },
    {
      "cell_type": "code",
      "execution_count": 23,
      "metadata": {},
      "outputs": [],
      "source": [
        "models = {\n",
        "    'Random Forest': RandomForestClassifier(random_state=42),\n",
        "    'AdaBoost': AdaBoostClassifier(algorithm='SAMME', random_state=42)\n",
        "}"
      ]
    },
    {
      "cell_type": "code",
      "execution_count": 24,
      "metadata": {},
      "outputs": [],
      "source": [
        "def evaluate_models(X_train, X_test, y_train, y_test, models):\n",
        "    results = []\n",
        "    \n",
        "    for name, model in models.items():\n",
        "        # Latih model\n",
        "        model.fit(X_train, y_train)\n",
        "        \n",
        "        # Prediksi pada data uji\n",
        "        y_pred = model.predict(X_test)\n",
        "        \n",
        "        # Hitung akurasi dan F1 weighted\n",
        "        accuracy = accuracy_score(y_test, y_pred)\n",
        "        f1 = f1_score(y_test, y_pred, average='weighted')\n",
        "        precision = precision_score(y_test, y_pred, average='weighted')\n",
        "        recall = recall_score(y_test, y_pred, average='weighted')\n",
        "        \n",
        "        # Simpan hasil evaluasi\n",
        "        results.append({\n",
        "            'Model': name,\n",
        "            'Accuracy': accuracy,\n",
        "            'F1 Weighted': f1,\n",
        "            'Precision': precision,\n",
        "            'Recall': recall\n",
        "        })\n",
        "    \n",
        "    # Buat DataFrame dari hasil evaluasi\n",
        "    results_df = pd.DataFrame(results)\n",
        "    \n",
        "    return results_df"
      ]
    },
    {
      "cell_type": "code",
      "execution_count": 25,
      "metadata": {},
      "outputs": [],
      "source": [
        "evaluation_results = evaluate_models(X_train, X_test, y_train, y_test, models)"
      ]
    },
    {
      "cell_type": "code",
      "execution_count": 26,
      "metadata": {},
      "outputs": [
        {
          "data": {
            "text/html": [
              "<div>\n",
              "<style scoped>\n",
              "    .dataframe tbody tr th:only-of-type {\n",
              "        vertical-align: middle;\n",
              "    }\n",
              "\n",
              "    .dataframe tbody tr th {\n",
              "        vertical-align: top;\n",
              "    }\n",
              "\n",
              "    .dataframe thead th {\n",
              "        text-align: right;\n",
              "    }\n",
              "</style>\n",
              "<table border=\"1\" class=\"dataframe\">\n",
              "  <thead>\n",
              "    <tr style=\"text-align: right;\">\n",
              "      <th></th>\n",
              "      <th>Model</th>\n",
              "      <th>Accuracy</th>\n",
              "      <th>F1 Weighted</th>\n",
              "      <th>Precision</th>\n",
              "      <th>Recall</th>\n",
              "    </tr>\n",
              "  </thead>\n",
              "  <tbody>\n",
              "    <tr>\n",
              "      <th>0</th>\n",
              "      <td>Random Forest</td>\n",
              "      <td>1.000000</td>\n",
              "      <td>1.000000</td>\n",
              "      <td>1.000000</td>\n",
              "      <td>1.000000</td>\n",
              "    </tr>\n",
              "    <tr>\n",
              "      <th>1</th>\n",
              "      <td>AdaBoost</td>\n",
              "      <td>0.684569</td>\n",
              "      <td>0.648391</td>\n",
              "      <td>0.642478</td>\n",
              "      <td>0.684569</td>\n",
              "    </tr>\n",
              "  </tbody>\n",
              "</table>\n",
              "</div>"
            ],
            "text/plain": [
              "           Model  Accuracy  F1 Weighted  Precision    Recall\n",
              "0  Random Forest  1.000000     1.000000   1.000000  1.000000\n",
              "1       AdaBoost  0.684569     0.648391   0.642478  0.684569"
            ]
          },
          "execution_count": 26,
          "metadata": {},
          "output_type": "execute_result"
        }
      ],
      "source": [
        "evaluation_results.sort_values(by='Accuracy', ascending=False)"
      ]
    },
    {
      "cell_type": "markdown",
      "metadata": {},
      "source": [
        "**Analisis hasil evaluasi**\n",
        "- Random Forest adalah model terbaik dalam hal performa, dengan akurasi, precision, recall, dan F1-score sempurna (100%). \n",
        "- AdaBoost memiliki performa yang cukup rendah dengan akurasi dan F1-score di bawah 70%. Karena performa model ini tergolong cukup rendah, maka akan dilakukan *hyperparameter tuning* menggunakan GridSearchCV"
      ]
    },
    {
      "cell_type": "markdown",
      "metadata": {
        "id": "ph9yIYDXEPuB"
      },
      "source": [
        "## **c. Tuning Model Klasifikasi (Optional)**"
      ]
    },
    {
      "cell_type": "markdown",
      "metadata": {},
      "source": [
        "### Hyperparameter tuning menggunakan GridSearchCV pada model AdaBoost"
      ]
    },
    {
      "cell_type": "code",
      "execution_count": 27,
      "metadata": {
        "id": "winbFzb8NL95"
      },
      "outputs": [
        {
          "name": "stdout",
          "output_type": "stream",
          "text": [
            "AdaBoost - Best Parameters: {'estimator': DecisionTreeClassifier(), 'learning_rate': 0.01, 'n_estimators': 50}\n",
            "AdaBoost - Best CV Accuracy: 1.0\n"
          ]
        }
      ],
      "source": [
        "ada_param_grid = {\n",
        "    'n_estimators': [50, 100, 200],  # jumlah estimator (boosting stages)\n",
        "    'learning_rate': [0.01, 0.1, 1.0],  # learning rate\n",
        "    'estimator': [DecisionTreeClassifier()] # base estimator\n",
        "}\n",
        "\n",
        "AdaBoostClassifier()\n",
        "ada_grid_search = GridSearchCV(\n",
        "    estimator=ada,\n",
        "    param_grid=ada_param_grid,\n",
        "    cv=5,  # 5-fold CV\n",
        "    scoring='accuracy',  \n",
        "    n_jobs=-1  \n",
        ")\n",
        "\n",
        "ada_grid_search.fit(X_train, y_train)\n",
        "\n",
        "print(\"AdaBoost - Best Parameters:\", ada_grid_search.best_params_)\n",
        "print(\"AdaBoost - Best CV Accuracy:\", ada_grid_search.best_score_)"
      ]
    },
    {
      "cell_type": "markdown",
      "metadata": {},
      "source": [
        "- Ditemukan parameter terbaik untuk model AdaBoost yaitu `'estimator': DecisionTreeClassifier(), 'learning_rate': 0.01, 'n_estimators': 50`. \n",
        "- Model dengan parameter terbaik menghasilkan akurasi CV sempurna (100%)"
      ]
    },
    {
      "cell_type": "markdown",
      "metadata": {
        "id": "hE7pqlEPEYzI"
      },
      "source": [
        "## **d. Evaluasi Model Klasifikasi setelah Tuning (Optional)**"
      ]
    },
    {
      "cell_type": "code",
      "execution_count": 28,
      "metadata": {},
      "outputs": [
        {
          "name": "stdout",
          "output_type": "stream",
          "text": [
            "Accuracy: 1.000, Precision: 1.000, Recall: 1.000, F1-score: 1.000 \n",
            "\n",
            "Confusion Matrix\n"
          ]
        },
        {
          "data": {
            "image/png": "[encoded data removed]",
            "text/plain": [
              "<Figure size 640x480 with 2 Axes>"
            ]
          },
          "metadata": {},
          "output_type": "display_data"
        }
      ],
      "source": [
        "# Evaluasi model AdaBoost terbaik pada data test\n",
        "ada_best_model = ada_grid_search.best_estimator_\n",
        "y_pred_ada = ada_best_model.predict(X_test)\n",
        "evaluate_classification(y_test, y_pred_ada)"
      ]
    },
    {
      "cell_type": "markdown",
      "metadata": {},
      "source": [
        "- Model AdaBoost dengan parameter terbaik menghasilkan akurasi, precision, recall, dan F1-score sempurna (1.00).\n",
        "- Confusion matrix menunjukkan bahwa tidak ada kesalahan prediksi (semua data test diprediksi dengan benar)."
      ]
    },
    {
      "cell_type": "markdown",
      "metadata": {
        "id": "ZRsOdm4uEgAW"
      },
      "source": [
        "## **e. Analisis Hasil Evaluasi Model Klasifikasi**"
      ]
    },
    {
      "cell_type": "markdown",
      "metadata": {},
      "source": [
        "**Perbandingan Sebelum dan Sesudah *Hyperparameter Tuning*** <br>\n",
        "\n",
        "Sebelum *hyperparameter tuning*, performa AdaBoost adalah:\n",
        "- Accuracy: 0.68\n",
        "- Precision: 0.64\n",
        "- Recall: 0.68\n",
        "- F1-score: 0.65\n",
        "\n",
        "Setelah *hyperparameter tuning*, performa AdaBoost meningkat secara signifikan:\n",
        "- Accuracy: 1.00 \n",
        "- Precision: 1.00 \n",
        "- Recall: 1.00 \n",
        "- F1-score: 1.00 "
      ]
    },
    {
      "cell_type": "markdown",
      "metadata": {},
      "source": [
        "**Identifikasi kelemahan model** <br>\n",
        "\n",
        "- Sebelum Tuning\n",
        "  - Precision dan recall rendah (0.64 dan 0.68) yang menunjukkan bahwa model sering melakukan kesalahan prediksi, terutama untuk beberapa kelas. \n",
        "  - Performa yang rendah sebelum tuning menunjukkan bahwa model mungkin **underfitting**, artinya model tidak cukup kompleks untuk menangkap pola dalam data.\n",
        "\n",
        "- Setelah tuning tidak ada kelemahan yang terlihat, model menunjukkan performa sempurna (100%) tanpa kesalahan prediksi"
      ]
    }
  ],
  "metadata": {
    "colab": {
      "provenance": []
    },
    "kernelspec": {
      "display_name": "Python 3",
      "name": "python3"
    },
    "language_info": {
      "codemirror_mode": {
        "name": "ipython",
        "version": 3
      },
      "file_extension": ".py",
      "mimetype": "text/x-python",
      "name": "python",
      "nbconvert_exporter": "python",
      "pygments_lexer": "ipython3",
      "version": "3.12.2"
    }
  },
  "nbformat": 4,
  "nbformat_minor": 0
}
